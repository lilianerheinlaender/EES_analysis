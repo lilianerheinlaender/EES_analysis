{
 "cells": [
  {
   "metadata": {},
   "cell_type": "markdown",
   "source": "1. import all of the needed packages (check out the \"neural_analysis\" pipeline to see where to get the package \"neurokin\" from!)",
   "id": "f892477af034b828"
  },
  {
   "metadata": {
    "collapsed": true,
    "ExecuteTime": {
     "end_time": "2025-03-13T14:55:52.619246Z",
     "start_time": "2025-03-13T14:55:51.439576Z"
    }
   },
   "cell_type": "code",
   "source": [
    "import pandas as pd\n",
    "import numpy as np\n",
    "import seaborn as sns\n",
    "from matplotlib import pyplot as plt\n",
    "from sklearn.decomposition import PCA\n",
    "from sklearn import preprocessing\n",
    "from sklearn.preprocessing import StandardScaler\n",
    "import os\n",
    "import sys\n",
    "import re\n",
    "import shutil\n",
    "from IPython.core.pylabtools import figsize\n",
    "from matplotlib.pyplot import figure\n",
    "import plotly.express as px\n",
    "sys.path.append(\"../neurokin/\")\n",
    "from neurokin.utils.neural import processing, importing, neural_plot\n",
    "from neurokin.utils.experiments import neural_states_helper, neural_correlates_plot, spider_factory\n",
    "from neurokin.locomotion_states import NeuralCorrelatesStates\n",
    "import json\n",
    "from scipy.stats import mannwhitneyu, normaltest, ttest_ind, levene, ttest_rel, shapiro\n",
    "from scipy import signal\n",
    "from matplotlib.ticker import FormatStrFormatter\n",
    "from matplotlib.lines import Line2D\n",
    "from neurokin.utils.experiments import neural_states_helper, neural_correlates_plot, spider_factory\n",
    "from neurokin.locomotion_states import NeuralCorrelatesStates\n",
    "from neurokin.neural_data import NeuralData"
   ],
   "id": "initial_id",
   "outputs": [],
   "execution_count": 1
  },
  {
   "metadata": {},
   "cell_type": "markdown",
   "source": "2. importing our dataframe",
   "id": "dee68fbfa2e9f11c"
  },
  {
   "metadata": {
    "ExecuteTime": {
     "end_time": "2025-03-13T15:13:08.876787Z",
     "start_time": "2025-03-13T15:13:08.839770Z"
    }
   },
   "cell_type": "code",
   "source": "df_raw = pd.read_csv(\"df_raw_Dataframe_test.csv\")",
   "id": "f7e667c09404c6c2",
   "outputs": [],
   "execution_count": 53
  },
  {
   "metadata": {},
   "cell_type": "markdown",
   "source": "3. We will only take the right side, then we drop unnecessary columns ",
   "id": "bdb47e93ccc8ed91"
  },
  {
   "metadata": {
    "ExecuteTime": {
     "end_time": "2025-03-13T15:13:10.999006Z",
     "start_time": "2025-03-13T15:13:10.970913Z"
    }
   },
   "cell_type": "code",
   "source": [
    "df_right = df_raw[df_raw[\"SIDE\"] == \"RIGHT\"]\n",
    "df_right.drop([\"SIDE\", \"FILENAME\", \"date\", \"RUN\", \"DOUBLE STANCE\"], axis=1, inplace=True)"
   ],
   "id": "2a5c2177d91fc17a",
   "outputs": [
    {
     "name": "stderr",
     "output_type": "stream",
     "text": [
      "C:\\Users\\User\\AppData\\Local\\Temp\\ipykernel_12676\\814435723.py:2: SettingWithCopyWarning: \n",
      "A value is trying to be set on a copy of a slice from a DataFrame\n",
      "\n",
      "See the caveats in the documentation: https://pandas.pydata.org/pandas-docs/stable/user_guide/indexing.html#returning-a-view-versus-a-copy\n",
      "  df_right.drop([\"SIDE\", \"FILENAME\", \"date\", \"RUN\", \"DOUBLE STANCE\"], axis=1, inplace=True)\n"
     ]
    }
   ],
   "execution_count": 54
  },
  {
   "metadata": {},
   "cell_type": "markdown",
   "source": "4. We use .groupby so that we get the median of every gait feature per condition per animal. A \"side effect\" of this is that the feature \"healthy\" gets converted from (True/False) to (1/0). The second line reverts this : ",
   "id": "466ebebf0141e52e"
  },
  {
   "metadata": {
    "ExecuteTime": {
     "end_time": "2025-03-13T15:13:12.666077Z",
     "start_time": "2025-03-13T15:13:12.650757Z"
    }
   },
   "cell_type": "code",
   "source": [
    "grouped = df_right.groupby([\"ANIMAL\", \"condition\"], as_index=False).median(numeric_only=True)\n",
    "grouped[\"healthy\"] = grouped[\"healthy\"].astype(bool)"
   ],
   "id": "4c8d9af9543573d8",
   "outputs": [],
   "execution_count": 55
  },
  {
   "metadata": {},
   "cell_type": "markdown",
   "source": "5. Here we pick all of the conditions we want to take into our PCA / we want to visualize. Because for the healthy animals we only want to look at the Baseline condition, we drop all of the conditions for them that are not Baseline : ",
   "id": "b81ffd1e07017bdd"
  },
  {
   "metadata": {
    "ExecuteTime": {
     "end_time": "2025-03-13T15:13:14.710141Z",
     "start_time": "2025-03-13T15:13:14.694955Z"
    }
   },
   "cell_type": "code",
   "source": [
    "df_picked = grouped[grouped[\"condition\"].isin([\"baseline\", \"cervical125\", \"lumbar125\"])]\n",
    "df_picked = df_picked.drop(df_picked[(df_picked[\"healthy\"] == True) & (df_picked[\"condition\"].isin([\"cervical125\", \"lumbar125\"]))].index)"
   ],
   "id": "3449bc7b556941fc",
   "outputs": [],
   "execution_count": 56
  },
  {
   "metadata": {},
   "cell_type": "markdown",
   "source": "6. We add a column that displays if an animal was from the season spring or fall :",
   "id": "7a0cf37fef7556cb"
  },
  {
   "metadata": {
    "ExecuteTime": {
     "end_time": "2025-03-13T15:13:15.769178Z",
     "start_time": "2025-03-13T15:13:15.745681Z"
    }
   },
   "cell_type": "code",
   "source": [
    "df_picked[\"season\"] = [\"spring\" if i in [\"NWE00130\",'NWE00131', 'NWE00158', 'NWE00160', 'NWE00161',\n",
    "       'NWE00162', 'NWE00163', 'NWE00164', 'NWE00166'] else \"fall\" for i in df_picked[\"ANIMAL\"]]"
   ],
   "id": "c670a2e65e7c3b63",
   "outputs": [],
   "execution_count": 57
  },
  {
   "metadata": {},
   "cell_type": "markdown",
   "source": "7. Next, we create a new dataframe to extract the metadata of our current dataframe. We do this because we don't want to normalize & run the PCA on that data. Only on our gait features! : ",
   "id": "1ed6dd302b4b166b"
  },
  {
   "metadata": {
    "ExecuteTime": {
     "end_time": "2025-03-13T15:13:18.035019Z",
     "start_time": "2025-03-13T15:13:18.023236Z"
    }
   },
   "cell_type": "code",
   "source": "metadata_df = df_picked[[\"ANIMAL\", \"condition\", \"healthy\", \"season\"]].reset_index(drop=True)",
   "id": "f0a616b531c0d929",
   "outputs": [],
   "execution_count": 58
  },
  {
   "metadata": {},
   "cell_type": "markdown",
   "source": "8. splitting up df_picked into spring and fall and then dropping their metadata, because we want to normalize the seasons separately to get rid of inter-seasonal Variance : ",
   "id": "f14e0ab3d70de9f5"
  },
  {
   "metadata": {
    "ExecuteTime": {
     "end_time": "2025-03-13T15:13:19.084761Z",
     "start_time": "2025-03-13T15:13:19.070204Z"
    }
   },
   "cell_type": "code",
   "source": [
    "spring = df_picked[df_picked[\"season\"] == \"spring\"]\n",
    "spring_features = spring.drop([\"ANIMAL\", \"condition\", \"healthy\", \"season\"], axis=1)\n",
    "\n",
    "fall = df_picked[df_picked[\"season\"] == \"fall\"]\n",
    "fall_features = fall.drop([\"ANIMAL\", \"condition\", \"healthy\", \"season\"], axis=1)"
   ],
   "id": "77cf4a459230aaf5",
   "outputs": [],
   "execution_count": 59
  },
  {
   "metadata": {},
   "cell_type": "markdown",
   "source": "9. Then, we normalize the spring and fall dataframe separately and put them back together. We also convert them back into a pandas dataframe because through normalization, dataframes are converted into numpy arrays : ",
   "id": "695dc76c59f5bded"
  },
  {
   "metadata": {
    "ExecuteTime": {
     "end_time": "2025-03-13T15:18:35.358365Z",
     "start_time": "2025-03-13T15:18:35.336307Z"
    }
   },
   "cell_type": "code",
   "source": [
    "x1 = preprocessing.scale(spring_features)\n",
    "x2 = preprocessing.scale(fall_features)\n",
    "\n",
    "x3 = np.concatenate([x1, x2], axis=0)\n",
    "\n",
    "x3 = pd.DataFrame(x3)"
   ],
   "id": "7daaf14ae0b45809",
   "outputs": [],
   "execution_count": 66
  },
  {
   "metadata": {},
   "cell_type": "markdown",
   "source": "10. Now, we can perform the PCA, create a dataframe with the PCA values and our desired amount of PC-columns. Lastly, we put together this dataframe with our priorly saved metadata dataframe : ",
   "id": "98b6b990c3d3e7a6"
  },
  {
   "metadata": {
    "ExecuteTime": {
     "end_time": "2025-03-13T15:20:03.892564Z",
     "start_time": "2025-03-13T15:20:03.871890Z"
    }
   },
   "cell_type": "code",
   "source": [
    "pca = PCA(n_components=3)\n",
    "principalComponents = pca.fit_transform(x3)\n",
    "principalDf = pd.DataFrame(principalComponents, columns=[\"PC1\", \"PC2\", \"PC3\"])\n",
    "principalDf = pd.concat([principalDf, metadata_df], axis=1)"
   ],
   "id": "c1518a7d07d75c2f",
   "outputs": [],
   "execution_count": 75
  },
  {
   "metadata": {},
   "cell_type": "markdown",
   "source": "11. We also add another column called \"category\" which shows us, if an animal was healthy or not and also the stimulation condition in one column. We need this to separate our groups when visualizing :",
   "id": "eb651d8d0784fc60"
  },
  {
   "metadata": {
    "ExecuteTime": {
     "end_time": "2025-03-13T15:20:06.622354Z",
     "start_time": "2025-03-13T15:20:06.606509Z"
    }
   },
   "cell_type": "code",
   "source": [
    "principalDf['category'] = np.where(principalDf['healthy'] == True,\n",
    "                                 'healthy_baseline',\n",
    "                                 np.where(principalDf['condition'] == 'baseline',\n",
    "                                           'pda_baseline', np.where(principalDf['condition'] == 'cervical125', \"pda_cervical\",\n",
    "                                           'pda_lumbar')))"
   ],
   "id": "5996e79c9acdefb6",
   "outputs": [],
   "execution_count": 76
  },
  {
   "metadata": {},
   "cell_type": "markdown",
   "source": [
    "12. We are now ready to visualize our PCA gait analysis : \n",
    "- We remove the axes labels and tick labels, so that we can add our own labels in a powerpoint for presenting results. \n",
    "- also, we change the plot to make it look like we want it to (remove spines to that we only see the x- & y-axis + relocate the legend) "
   ],
   "id": "97b2cca177ff4428"
  },
  {
   "metadata": {
    "ExecuteTime": {
     "end_time": "2025-03-13T15:20:13.863818Z",
     "start_time": "2025-03-13T15:20:13.548496Z"
    }
   },
   "cell_type": "code",
   "source": [
    "custom_palette = {\"healthy_baseline\": \"#808080\", \"pda_baseline\": \"#e0493e\", \"pda_cervical\": \"#496186\", \"pda_lumbar\": \"#95b695\"}\n",
    "\n",
    "plt.figure(figsize=(5, 4))\n",
    "g = sns.scatterplot(data=principalDf, x=\"PC2\", y=\"PC1\", hue=\"category\", palette=custom_palette, s=60)\n",
    "\n",
    "ax = plt.gca()\n",
    "ax.set_xticks([-6, 0, 6])\n",
    "ax.set_yticks([-6, 2, 10])\n",
    "ax.tick_params(axis=\"both\", which=\"both\", length=5, width=1, direction=\"out\", color=\"black\")\n",
    "plt.gca().set_xticklabels([])\n",
    "plt.gca().set_yticklabels([])\n",
    "g.spines[['right', 'top']].set_visible(False)\n",
    "g.set(ylabel=None, xlabel=None)\n",
    "plt.legend(loc='center left', bbox_to_anchor=(1.25, 0.5), ncol=1)\n",
    "#plt.savefig(\"PCA_test.png\", transparent=True)"
   ],
   "id": "96fd4833593658b6",
   "outputs": [
    {
     "data": {
      "text/plain": [
       "<matplotlib.legend.Legend at 0x2903130a580>"
      ]
     },
     "execution_count": 77,
     "metadata": {},
     "output_type": "execute_result"
    },
    {
     "data": {
      "text/plain": [
       "<Figure size 500x400 with 1 Axes>"
      ],
      "image/png": "[encoded data removed]"
     },
     "metadata": {},
     "output_type": "display_data"
    }
   ],
   "execution_count": 77
  },
  {
   "metadata": {},
   "cell_type": "markdown",
   "source": "13. This was the core Analysis. After that, we can also extract the loadings of e.g. PC1. Here, the loadings are the gait features that make up for the biggest variance in PC1. We select the top and bottom 3 gait features. ",
   "id": "8958124c54e5e1a9"
  },
  {
   "metadata": {
    "ExecuteTime": {
     "end_time": "2025-03-13T15:20:33.304099Z",
     "start_time": "2025-03-13T15:20:33.283414Z"
    }
   },
   "cell_type": "code",
   "source": [
    "all_features = df_picked.drop(metadata_df, axis=1)\n",
    "\n",
    "feature_names = all_features.columns\n",
    "\n",
    "loadings = pd.DataFrame(pca.components_.T, columns=[\"PC1\", \"PC2\", \"PC3\"], index=feature_names)\n",
    "sorted_loadings = loadings[\"PC1\"].sort_values(ascending=False)\n",
    "\n",
    "top_3_features = sorted_loadings.iloc[:3]\n",
    "bottom_3_features = sorted_loadings.iloc[-3:]\n",
    "selected_loadings = pd.concat([top_3_features, bottom_3_features])"
   ],
   "id": "864255cd0ad2a4d",
   "outputs": [],
   "execution_count": 79
  },
  {
   "metadata": {},
   "cell_type": "markdown",
   "source": "14. Now let's visualize the loadings",
   "id": "499b47a3ce281a90"
  },
  {
   "metadata": {
    "ExecuteTime": {
     "end_time": "2025-03-13T15:23:09.937807Z",
     "start_time": "2025-03-13T15:23:09.703784Z"
    }
   },
   "cell_type": "code",
   "source": [
    "figure(figsize=(4, 4))\n",
    "sns.set_style(\"ticks\")  \n",
    "b = sns.barplot(x=selected_loadings, y=selected_loadings.index, color=\"lightgray\")\n",
    "\n",
    "ax = plt.gca()\n",
    "ax.set_xticks([-0.20, 0 , 0.20])\n",
    "ax.tick_params(left=False, length=5, width=1, direction=\"out\", color=\"black\")\n",
    "\n",
    "b.spines[['right', 'top', \"left\"]].set_visible(False)\n",
    "b.set(ylabel=None, xlabel=None)\n",
    "\n",
    "#plt.savefig(\"loadings_test.svg\", transparent=True)"
   ],
   "id": "4fff5ef17c885d2a",
   "outputs": [
    {
     "data": {
      "text/plain": [
       "[Text(0, 0.5, ''), Text(0.5, 0, '')]"
      ]
     },
     "execution_count": 83,
     "metadata": {},
     "output_type": "execute_result"
    },
    {
     "data": {
      "text/plain": [
       "<Figure size 400x400 with 1 Axes>"
      ],
      "image/png": "[encoded data removed]"
     },
     "metadata": {},
     "output_type": "display_data"
    }
   ],
   "execution_count": 83
  }
 ],
 "metadata": {
  "kernelspec": {
   "display_name": "Python 3",
   "language": "python",
   "name": "python3"
  },
  "language_info": {
   "codemirror_mode": {
    "name": "ipython",
    "version": 2
   },
   "file_extension": ".py",
   "mimetype": "text/x-python",
   "name": "python",
   "nbconvert_exporter": "python",
   "pygments_lexer": "ipython2",
   "version": "2.7.6"
  }
 },
 "nbformat": 4,
 "nbformat_minor": 5
}
