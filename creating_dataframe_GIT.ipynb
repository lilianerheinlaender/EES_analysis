{
 "cells": [
  {
   "metadata": {},
   "cell_type": "markdown",
   "source": "1. importing all of the needed packages :",
   "id": "722c5bcd1149b1e4"
  },
  {
   "metadata": {
    "collapsed": true,
    "ExecuteTime": {
     "end_time": "2025-03-13T15:06:15.387260Z",
     "start_time": "2025-03-13T15:06:03.995088Z"
    }
   },
   "cell_type": "code",
   "source": [
    "import pandas as pd\n",
    "import numpy as np\n",
    "import seaborn as sns\n",
    "from matplotlib import pyplot as plt\n",
    "from sklearn.decomposition import PCA\n",
    "from sklearn import preprocessing\n",
    "from sklearn.preprocessing import StandardScaler\n",
    "import os\n",
    "import sys\n",
    "import re\n",
    "import shutil\n",
    "sys.path.append('..\\\\neurokin\\\\')\n",
    "from neurokin.kinematic_data import KinematicDataRun\n",
    "from neurokin.utils.neural import processing, importing\n",
    "from neurokin.utils.experiments import neural_states_helper, neural_correlates_plot, spider_factory\n",
    "from neurokin.locomotion_states import NeuralCorrelatesStates\n",
    "from neurokin.utils.helper.load_config import read_config\n",
    "from neurokin.utils.experiments.neural_states_helper import get_runs_list\n",
    "from IPython.core.pylabtools import figsize\n",
    "from matplotlib.pyplot import figure\n",
    "import plotly.express as px"
   ],
   "id": "initial_id",
   "outputs": [
    {
     "name": "stderr",
     "output_type": "stream",
     "text": [
      "C:\\Users\\User\\anaconda3\\envs\\gait_analysis_fall\\lib\\site-packages\\tqdm\\auto.py:21: TqdmWarning: IProgress not found. Please update jupyter and ipywidgets. See https://ipywidgets.readthedocs.io/en/stable/user_install.html\n",
      "  from .autonotebook import tqdm as notebook_tqdm\n"
     ]
    }
   ],
   "execution_count": 1
  },
  {
   "metadata": {},
   "cell_type": "markdown",
   "source": "2. get the experiment structure :",
   "id": "fc2495c8111aa817"
  },
  {
   "metadata": {
    "ExecuteTime": {
     "end_time": "2025-03-13T15:06:15.403319Z",
     "start_time": "2025-03-13T15:06:15.391227Z"
    }
   },
   "cell_type": "code",
   "source": "experiment_structure_path = \"C:/Users/User/Documents/data_labrotation/gait_feats_SpringAndFall_2023/experiment_structure_SpringAndFall_for_gait.yaml\" ",
   "id": "cc1f48dbaa21213f",
   "outputs": [],
   "execution_count": 2
  },
  {
   "metadata": {
    "ExecuteTime": {
     "end_time": "2025-03-13T15:06:15.610242Z",
     "start_time": "2025-03-13T15:06:15.516960Z"
    }
   },
   "cell_type": "code",
   "source": "experiment_structure = read_config(experiment_structure_path, converts_keys_to_string=True)",
   "id": "839a5ad8b67d8d27",
   "outputs": [],
   "execution_count": 3
  },
  {
   "metadata": {},
   "cell_type": "markdown",
   "source": "3. create the metadata for your dataset (date,subject,condition and Run-number of the run) :",
   "id": "b53f841d525a5b6f"
  },
  {
   "metadata": {
    "ExecuteTime": {
     "end_time": "2025-03-13T15:06:18.773359Z",
     "start_time": "2025-03-13T15:06:18.746931Z"
    }
   },
   "cell_type": "code",
   "source": [
    "trial_list = get_runs_list(experiment_structure, skip_subjects=[], skip_conditions=[])\n",
    "trial_data = []\n",
    "for trial in trial_list:\n",
    "    date, subject, condition, run = trial\n",
    "    trial_data.append(trial)\n",
    "metadata = pd.DataFrame(trial_data, columns=[\"date\", \"subject\", \"condition\", \"run\"])"
   ],
   "id": "b7248fabc37de115",
   "outputs": [],
   "execution_count": 4
  },
  {
   "metadata": {},
   "cell_type": "markdown",
   "source": "4. define which animals are healthy :",
   "id": "2966c9b347986c13"
  },
  {
   "metadata": {
    "ExecuteTime": {
     "end_time": "2025-03-13T15:06:21.273016Z",
     "start_time": "2025-03-13T15:06:21.257145Z"
    }
   },
   "cell_type": "code",
   "source": "healthy = [\"NWE00131\", \"NWE00158\", \"NWE00166\",\"NWE00188\", \"NWE00189\", \"NWE00198\", \"NWE00197\"]",
   "id": "66c986c69e8369a7",
   "outputs": [],
   "execution_count": 5
  },
  {
   "metadata": {},
   "cell_type": "markdown",
   "source": "5. define parameters you want to have/not have in your dataset :",
   "id": "ba3605271012ae7d"
  },
  {
   "metadata": {
    "ExecuteTime": {
     "end_time": "2025-03-13T15:06:22.783363Z",
     "start_time": "2025-03-13T15:06:22.760375Z"
    }
   },
   "cell_type": "code",
   "source": [
    "green_param = [\"FILENAME\", \"SIDE\", \"ANIMAL\", \"CONDITION 1\", \"CONDITION 2\", \"DURATION\", \"VELOCITY\", \"ST DUR\", \"SW DUR\", \"%ST DUR\", \"DOUBLE STANCE\", \"HIP-END BW\", \"HIP-END FW\", \"STEP HEIGHT nor\", \"MAX ENDPOINT Vel\", \"T MAX ENDPOINT Vel\", \"Acc ENDPOINT\", \"Vel ENDPOINT\", \"Angle Vel ENPOINT\", \"FOOT SW LAT\", \"STEP WIDTH\", \"MAX HipY nor\", \"MIN HipY nor\", \"AMP HipY\", \"SD MidTrunk XY\", \"SD MidTrunk XY Vel\", \"SD MidHip Z\", \"SD MidHip Y\", \"SD MidSh Y\", \"SD MidSh Z\", \"SD Shoulders\", \"SD Hips\", \"L VirtCOM fw\", \"L VirtCOM lat\", \"L VirtCOM vert\", \"L VirtCOM 3D\", \"MIN ELE 1\", \"MIN ELE 2\", \"MIN ELE 3\", \"MIN ELE 4\", \"MIN ELE 6\", \"MAX ELE 1\", \"MAX ELE 2\", \"MAX ELE 3\", \"MAX ELE 4\", \"MAX ELE 6\", \"MAX JOINT 1\", \"MAX JOINT 2\", \"MAX JOINT 3\", \"MAX LIMBLAT\", \"MIN JOINT 1\", \"MIN JOINT 2\", \"MIN JOINT 3\", \"MIN LIMBLAT\", \"AMP ELE 1\", \"AMP ELE 2\", \"AMP ELE 3\", \"AMP ELE 4\", \"AMP LIMB\", \"AMP JOINT 1\", \"AMP JOINT 2\", \"AMP JOINT 3\", \"AMP LIMBLAT\", \"MIN SPEEDLIMB 1\", \"MIN SPEEDJOINT 1\", \"MIN SPEEDJOINT 2\", \"MIN SPEEDJOINT 3\", \"MAX SPEEDLIMB 1\", \"MAX SPEEDJOINT 1\", \"MAX SPEEDJOINT 2\", \"MAX SPEEDJOINT 3\", \"AMP SPEEDLIMB 1\", \"AMP SPEEDJOINT 1\", \"AMP SPEEDJOINT 2\", \"AMP SPEEDJOINT 3\", \"PH2 PH1\", \"PH3 PH2\", \"PH4 PH3\", \"R CREST-THIGH\", \"R THIGH-LEG\", \"R LEG-FOOT\", \"R HIP-KNEE\", \"R KNEE-ANKLE\", \"R ANKLE-MTP\", \"CREST-THIGH timingMIN\", \"CREST-THIGH timingMAX\", \"THIGH-LEG timingMIN\", \"THIGH-LEG timingMAX\", \"LEG-FOOT timingMIN\", \"LEG-FOOT timingMAX\", \"STEP HEIGHT\", \"PH1\", \"AMP1\", \"PH2\", \"AMP2\", \"PH3\", \"AMP3\", \"PH4\", \"AMP4\", \"LAG CREST-THIGH\", \"LAG THIGH-LEG\", \"LAG LEG-FOOT\", \"LAG HIP-KNEE\", \"LAG KNEE-ANKLE\", \"LAG ANKLE-MTP\", \"SD DURATION\", \"SD L STRIDE\", \"SD ST DUR\", \"SD SW DUR\", \"SD STEP WIDTH\", \"SD SD MidTrunk XY\", \"SD SD MidTrunk XY Vel\", \"SD STEP HEIGHT nor\", \"SD HIP-END BW\", \"SD HIP-END FW\", \"SD ST contra HL\", \"SD L PATH\", \"SD MAX ENDPOINT Vel\", \"SD T MAX ENDPOINT Vel\", \"SD PH2 PH1\", \"SD PH3 PH2\", \"SD PH4 PH3\", \"SD DOUBLE STANCE\", \"SD Acc ENDPOINT\", \"SD Vel ENDPOINT\", \"SD Angle Vel ENPOINT\", \"L STRIDE\", \"L STEP\", \"L PATH\"]\n",
    "green_param_sum = [\"FILENAME\", \"SIDE\", \"ANIMAL\", \"DURATION\", \"VELOCITY\", \"ST DUR\", \"SW DUR\", \"%ST DUR\", \"DOUBLE STANCE\", \"HIP-END BW\", \"HIP-END FW\", \"STEP HEIGHT nor\", \"MAX ENDPOINT Vel\", \"T MAX ENDPOINT Vel\", \"Acc ENDPOINT\", \"Vel ENDPOINT\", \"Angle Vel ENPOINT\", \"FOOT SW LAT\", \"STEP WIDTH\", \"MAX HipY nor\", \"MIN HipY nor\", \"AMP HipY\", \"SD MidTrunk XY\", \"SD MidTrunk XY Vel\", \"SD MidHip Z\", \"SD MidHip Y\", \"SD MidSh Y\", \"SD MidSh Z\", \"SD Shoulders\", \"SD Hips\", \"L VirtCOM fw\", \"L VirtCOM lat\", \"L VirtCOM vert\", \"L VirtCOM 3D\", \"MIN ELE 1\", \"MIN ELE 2\", \"MIN ELE 3\", \"MIN ELE 4\", \"MIN ELE 6\", \"MAX ELE 1\", \"MAX ELE 2\", \"MAX ELE 3\", \"MAX ELE 4\", \"MAX ELE 6\", \"MAX JOINT 1\", \"MAX JOINT 2\", \"MAX JOINT 3\", \"MAX LIMBLAT\", \"MIN JOINT 1\", \"MIN JOINT 2\", \"MIN JOINT 3\", \"MIN LIMBLAT\", \"AMP ELE 1\", \"AMP ELE 2\", \"AMP ELE 3\", \"AMP ELE 4\", \"AMP LIMB\", \"AMP JOINT 1\", \"AMP JOINT 2\", \"AMP JOINT 3\", \"AMP LIMBLAT\", \"MIN SPEEDLIMB 1\", \"MIN SPEEDJOINT 1\", \"MIN SPEEDJOINT 2\", \"MIN SPEEDJOINT 3\", \"MAX SPEEDLIMB 1\", \"MAX SPEEDJOINT 1\", \"MAX SPEEDJOINT 2\", \"MAX SPEEDJOINT 3\", \"AMP SPEEDLIMB 1\", \"AMP SPEEDJOINT 1\", \"AMP SPEEDJOINT 2\", \"AMP SPEEDJOINT 3\", \"PH2 PH1\", \"PH3 PH2\", \"PH4 PH3\", \"R CREST-THIGH\", \"R THIGH-LEG\", \"R LEG-FOOT\", \"R HIP-KNEE\", \"R KNEE-ANKLE\", \"R ANKLE-MTP\", \"CREST-THIGH timingMIN\", \"CREST-THIGH timingMAX\", \"THIGH-LEG timingMIN\", \"THIGH-LEG timingMAX\", \"LEG-FOOT timingMIN\", \"LEG-FOOT timingMAX\", \"STEP HEIGHT\", \"PH1\", \"AMP1\", \"PH2\", \"AMP2\", \"PH3\", \"AMP3\", \"PH4\", \"AMP4\", \"LAG CREST-THIGH\", \"LAG THIGH-LEG\", \"LAG LEG-FOOT\", \"LAG HIP-KNEE\", \"LAG KNEE-ANKLE\", \"LAG ANKLE-MTP\", \"L STRIDE\", \"L STEP\", \"L PATH\"]\n",
    "to_drop = [ \"COND1\", \"COND2\", \"COND3\",\"GAIT_TYPE\",\"LIMB\",\"PATHNAME\",\"FILENAME\", \"ANIMAL\", \"CONDITION 1\", \"CONDITION 2\", \"MIN ELE 1\", \"MIN ELE 2\", \"MAX ELE 1\",\"MAX ELE 2\", \"MAX JOINT 1\",  \"MAX JOINT 2\", \"MIN JOINT 1\", \"MIN JOINT 2\", \"AMP ELE 1\", \"AMP ELE 2\", \"AMP JOINT 1\", \"AMP JOINT 2\", \"MIN SPEEDJOINT 1\", \"MIN SPEEDJOINT 2\", \"AMP SPEEDJOINT 1\", \"AMP SPEEDJOINT 2\", \"AMP3\",\"AMP4\", 'ANIMAL.1', 'COND1.1', 'COND2.1', 'SIDE.1', 'SPEED']\n",
    "columns = green_param + [\"ANIMAL_ID\", \"EXPERIMENT\"]"
   ],
   "id": "f48d7d04aa6d2c33",
   "outputs": [],
   "execution_count": 6
  },
  {
   "metadata": {},
   "cell_type": "markdown",
   "source": "6. define, from what folder you are taking your raw gait files from",
   "id": "b3d31c5409ad9853"
  },
  {
   "metadata": {
    "ExecuteTime": {
     "end_time": "2025-03-13T15:06:25.278284Z",
     "start_time": "2025-03-13T15:06:25.257162Z"
    }
   },
   "cell_type": "code",
   "source": [
    "source_folder = \"C:/Users/User/Downloads/gait_only_test\"\n",
    "SUM = \"SUM/\" # this will be used in the following loop"
   ],
   "id": "4292848741f5b16a",
   "outputs": [],
   "execution_count": 7
  },
  {
   "metadata": {},
   "cell_type": "markdown",
   "source": [
    "7. this loop iterates through my folder structure (which is: dates/animals/runs), then:\n",
    "- in the \"run\" folder there are different files with the raw features of that run. We want to take our data from that run from the file that ends with \"GAIT_SUM.txt\"!\n",
    "- From that one file of each and every run we go through, we \"take out\" all of the gait features (with its values from that run ofc)  we want to. Then, we put these gait features together with our metadata (corresponding date for that run etc.).\n",
    "- at the end of every loop iteration we append the data that corresponds to that run to the df_list. Then outside the loop, the data from that list will be put together into the whole dataframe.\n",
    "- This final dataframe contains all the raw values for all of our picked gait features + metadata for every day, every animal and every run!"
   ],
   "id": "9815d6af8b38c6ae"
  },
  {
   "metadata": {
    "ExecuteTime": {
     "end_time": "2025-03-13T15:06:41.228192Z",
     "start_time": "2025-03-13T15:06:41.038037Z"
    }
   },
   "cell_type": "code",
   "source": [
    "df_list = []\n",
    "metadata.rename(columns={\"subject\": \"ANIMAL\", \"run\": \"RUN\"}, inplace=True)\n",
    "\n",
    "dates = [f.name for f in os.scandir(source_folder) if f.is_dir() and f.name.isnumeric()]\n",
    "for date in dates:\n",
    "    path_animal = os.path.join(source_folder, date)\n",
    "    animals = [f.name for f in os.scandir(path_animal) if f.is_dir()]\n",
    "    for animal in animals:\n",
    "        path_run = os.path.join(path_animal, animal)\n",
    "        for run in os.listdir(path_run):\n",
    "            run_path = os.path.join(path_run, run)\n",
    "            path_to_SUM = os.path.join(run_path, SUM)\n",
    "            print(path_to_SUM)\n",
    "\n",
    "            if not os.path.exists(path_to_SUM):\n",
    "                print(f\"no SUM folder for run {run}\")\n",
    "                continue\n",
    "\n",
    "            sums = next(os.walk(path_to_SUM))[2]\n",
    "            print(sums)\n",
    "\n",
    "            file = next((os.path.join(path_to_SUM, i) for i in sums if i.endswith(\"_GAIT_SUM.txt\")), None)\n",
    "            print(file)\n",
    "\n",
    "            if file:\n",
    "                temp_df = pd.read_csv(file, sep=\"\\t\")\n",
    "                temp_df = temp_df[green_param_sum]\n",
    "                temp_df[\"date\"] = date\n",
    "                temp_df[\"ANIMAL\"] = animal\n",
    "                temp_df[\"RUN\"] = os.path.basename(os.path.normpath(run_path))\n",
    "                temp_df = temp_df.merge(\n",
    "                    metadata[[\"date\", \"ANIMAL\", \"RUN\", \"condition\"]], on=[\"date\", \"ANIMAL\", \"RUN\"], how=\"left\")\n",
    "                temp_df[\"healthy\"] = animal in healthy\n",
    "                df_list.append(temp_df)\n",
    "\n",
    "df_raw_Dataframe = pd.concat(df_list, ignore_index=True)"
   ],
   "id": "72654d38841e8077",
   "outputs": [
    {
     "name": "stdout",
     "output_type": "stream",
     "text": [
      "C:/Users/User/Downloads/gait_only_test\\230525\\NWE00130\\01\\SUM/\n",
      "['cropped_runway01_GAIT_SUM.txt', 'cropped_runway01_MEAN_SUM.txt']\n",
      "C:/Users/User/Downloads/gait_only_test\\230525\\NWE00130\\01\\SUM/cropped_runway01_GAIT_SUM.txt\n",
      "C:/Users/User/Downloads/gait_only_test\\230525\\NWE00130\\07\\SUM/\n",
      "['runway07_GAIT_SUM.txt', 'runway07_MEAN_SUM.txt']\n",
      "C:/Users/User/Downloads/gait_only_test\\230525\\NWE00130\\07\\SUM/runway07_GAIT_SUM.txt\n",
      "C:/Users/User/Downloads/gait_only_test\\230525\\NWE00130\\09\\SUM/\n",
      "['runway09_GAIT_SUM.txt', 'runway09_MEAN_SUM.txt']\n",
      "C:/Users/User/Downloads/gait_only_test\\230525\\NWE00130\\09\\SUM/runway09_GAIT_SUM.txt\n",
      "C:/Users/User/Downloads/gait_only_test\\230525\\NWE00130\\11\\SUM/\n",
      "['cropped_runway11_GAIT_SUM.txt', 'cropped_runway11_MEAN_SUM.txt']\n",
      "C:/Users/User/Downloads/gait_only_test\\230525\\NWE00130\\11\\SUM/cropped_runway11_GAIT_SUM.txt\n",
      "C:/Users/User/Downloads/gait_only_test\\230525\\NWE00130\\12\\SUM/\n",
      "no SUM folder for run 12\n"
     ]
    }
   ],
   "execution_count": 8
  },
  {
   "metadata": {},
   "cell_type": "markdown",
   "source": [
    "8. If we decide to drop more gait features we don't have to let the whole loop run again, we can just:\n",
    "- define what columns (=features) we want to drop and then:\n",
    "- drop them"
   ],
   "id": "c8bc77db1e362150"
  },
  {
   "metadata": {
    "ExecuteTime": {
     "end_time": "2025-03-13T15:08:24.404261Z",
     "start_time": "2025-03-13T15:08:24.397084Z"
    }
   },
   "cell_type": "code",
   "source": [
    "cols_to_drop = df_raw_Dataframe.columns[df_raw_Dataframe.columns.str.contains('LAG|timing')]\n",
    "df_raw_post_dropping = df_raw_Dataframe.drop(cols_to_drop, axis=1)"
   ],
   "id": "8292baf921f307b7",
   "outputs": [],
   "execution_count": 12
  },
  {
   "metadata": {},
   "cell_type": "markdown",
   "source": "9. you can also drop animals you want to exclude + check if you successfully dropped them : ",
   "id": "a2734b5a1fbe9bd4"
  },
  {
   "metadata": {
    "ExecuteTime": {
     "end_time": "2025-03-13T15:10:02.189118Z",
     "start_time": "2025-03-13T15:10:02.171010Z"
    }
   },
   "cell_type": "code",
   "source": [
    "df_raw_without_certain_animal = df_raw_post_dropping.drop(df_raw_post_dropping[df_raw_Dataframe[\"ANIMAL\"].isin([\"NWE00189\", \"NWE00191\", \"NWE00193\"])].index, axis=0)\n",
    "print(df_raw_without_certain_animal[\"ANIMAL\"].unique())"
   ],
   "id": "9e89a55679aada0d",
   "outputs": [
    {
     "name": "stdout",
     "output_type": "stream",
     "text": [
      "['NWE00130']\n"
     ]
    }
   ],
   "execution_count": 14
  },
  {
   "metadata": {},
   "cell_type": "markdown",
   "source": "10. save your dataframe :",
   "id": "abb56a69da35fae9"
  },
  {
   "metadata": {
    "ExecuteTime": {
     "end_time": "2025-03-13T15:12:54.652243Z",
     "start_time": "2025-03-13T15:12:54.632422Z"
    }
   },
   "cell_type": "code",
   "source": "df_raw_without_certain_animal.to_csv(\"df_raw_Dataframe_test.csv\", index=False)",
   "id": "c0ac96b911583189",
   "outputs": [],
   "execution_count": 17
  }
 ],
 "metadata": {
  "kernelspec": {
   "display_name": "Python 3",
   "language": "python",
   "name": "python3"
  },
  "language_info": {
   "codemirror_mode": {
    "name": "ipython",
    "version": 2
   },
   "file_extension": ".py",
   "mimetype": "text/x-python",
   "name": "python",
   "nbconvert_exporter": "python",
   "pygments_lexer": "ipython2",
   "version": "2.7.6"
  }
 },
 "nbformat": 4,
 "nbformat_minor": 5
}
