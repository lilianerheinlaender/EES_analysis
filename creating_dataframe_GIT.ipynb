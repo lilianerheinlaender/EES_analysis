{
 "cells": [
  {
   "metadata": {},
   "cell_type": "raw",
   "source": "1. import all of the needed packages (check out the \"neural_analysis\" pipeline to see where to get the package \"neurokin\" from!) :",
   "id": "b6d72c489fd361f1"
  },
  {
   "metadata": {
    "collapsed": true,
    "ExecuteTime": {
     "end_time": "2025-03-20T14:24:29.983654Z",
     "start_time": "2025-03-20T14:24:29.909645Z"
    }
   },
   "cell_type": "code",
   "source": [
    "import pandas as pd\n",
    "import os\n",
    "import sys\n",
    "sys.path.append('..\\\\neurokin\\\\')\n",
    "from neurokin.utils.helper.load_config import read_config\n",
    "from neurokin.utils.experiments.neural_states_helper import get_runs_list"
   ],
   "id": "initial_id",
   "outputs": [],
   "execution_count": 1
  },
  {
   "metadata": {},
   "cell_type": "markdown",
   "source": "2. get the experiment structure :",
   "id": "fc2495c8111aa817"
  },
  {
   "metadata": {
    "ExecuteTime": {
     "end_time": "2025-03-20T14:24:56.781369Z",
     "start_time": "2025-03-20T14:24:56.770263Z"
    }
   },
   "cell_type": "code",
   "source": "experiment_structure_path = \"C:/Users/User/Documents/data_labrotation/gait_feats_SpringAndFall_2023/experiment_structure_SpringAndFall_for_gait.yaml\" ",
   "id": "cc1f48dbaa21213f",
   "outputs": [],
   "execution_count": 2
  },
  {
   "metadata": {
    "ExecuteTime": {
     "end_time": "2025-03-20T14:24:57.734055Z",
     "start_time": "2025-03-20T14:24:57.608567Z"
    }
   },
   "cell_type": "code",
   "source": "experiment_structure = read_config(experiment_structure_path, converts_keys_to_string=True)",
   "id": "839a5ad8b67d8d27",
   "outputs": [],
   "execution_count": 3
  },
  {
   "metadata": {},
   "cell_type": "markdown",
   "source": "3. create the metadata for your dataset (date,subject,condition and Run-number of the run) :",
   "id": "b53f841d525a5b6f"
  },
  {
   "metadata": {
    "ExecuteTime": {
     "end_time": "2025-03-20T14:24:59.840156Z",
     "start_time": "2025-03-20T14:24:59.826038Z"
    }
   },
   "cell_type": "code",
   "source": [
    "trial_list = get_runs_list(experiment_structure, skip_subjects=[], skip_conditions=[])\n",
    "trial_data = []\n",
    "for trial in trial_list:\n",
    "    date, subject, condition, run = trial\n",
    "    trial_data.append(trial)\n",
    "metadata = pd.DataFrame(trial_data, columns=[\"date\", \"subject\", \"condition\", \"run\"])"
   ],
   "id": "b7248fabc37de115",
   "outputs": [],
   "execution_count": 4
  },
  {
   "metadata": {},
   "cell_type": "markdown",
   "source": "4. define which animals are healthy :",
   "id": "2966c9b347986c13"
  },
  {
   "metadata": {
    "ExecuteTime": {
     "end_time": "2025-03-20T14:25:02.849317Z",
     "start_time": "2025-03-20T14:25:02.828503Z"
    }
   },
   "cell_type": "code",
   "source": "healthy = [\"NWE00131\", \"NWE00158\", \"NWE00166\",\"NWE00188\", \"NWE00189\", \"NWE00198\", \"NWE00197\"]",
   "id": "66c986c69e8369a7",
   "outputs": [],
   "execution_count": 5
  },
  {
   "metadata": {},
   "cell_type": "markdown",
   "source": "5. define parameters you want to have/not have in your dataset :",
   "id": "ba3605271012ae7d"
  },
  {
   "metadata": {
    "ExecuteTime": {
     "end_time": "2025-03-20T14:25:03.686757Z",
     "start_time": "2025-03-20T14:25:03.647540Z"
    }
   },
   "cell_type": "code",
   "source": [
    "green_param = [\"FILENAME\", \"SIDE\", \"ANIMAL\", \"CONDITION 1\", \"CONDITION 2\", \"DURATION\", \"VELOCITY\", \"ST DUR\", \"SW DUR\", \"%ST DUR\", \"DOUBLE STANCE\", \"HIP-END BW\", \"HIP-END FW\", \"STEP HEIGHT nor\", \"MAX ENDPOINT Vel\", \"T MAX ENDPOINT Vel\", \"Acc ENDPOINT\", \"Vel ENDPOINT\", \"Angle Vel ENPOINT\", \"FOOT SW LAT\", \"STEP WIDTH\", \"MAX HipY nor\", \"MIN HipY nor\", \"AMP HipY\", \"SD MidTrunk XY\", \"SD MidTrunk XY Vel\", \"SD MidHip Z\", \"SD MidHip Y\", \"SD MidSh Y\", \"SD MidSh Z\", \"SD Shoulders\", \"SD Hips\", \"L VirtCOM fw\", \"L VirtCOM lat\", \"L VirtCOM vert\", \"L VirtCOM 3D\", \"MIN ELE 1\", \"MIN ELE 2\", \"MIN ELE 3\", \"MIN ELE 4\", \"MIN ELE 6\", \"MAX ELE 1\", \"MAX ELE 2\", \"MAX ELE 3\", \"MAX ELE 4\", \"MAX ELE 6\", \"MAX JOINT 1\", \"MAX JOINT 2\", \"MAX JOINT 3\", \"MAX LIMBLAT\", \"MIN JOINT 1\", \"MIN JOINT 2\", \"MIN JOINT 3\", \"MIN LIMBLAT\", \"AMP ELE 1\", \"AMP ELE 2\", \"AMP ELE 3\", \"AMP ELE 4\", \"AMP LIMB\", \"AMP JOINT 1\", \"AMP JOINT 2\", \"AMP JOINT 3\", \"AMP LIMBLAT\", \"MIN SPEEDLIMB 1\", \"MIN SPEEDJOINT 1\", \"MIN SPEEDJOINT 2\", \"MIN SPEEDJOINT 3\", \"MAX SPEEDLIMB 1\", \"MAX SPEEDJOINT 1\", \"MAX SPEEDJOINT 2\", \"MAX SPEEDJOINT 3\", \"AMP SPEEDLIMB 1\", \"AMP SPEEDJOINT 1\", \"AMP SPEEDJOINT 2\", \"AMP SPEEDJOINT 3\", \"PH2 PH1\", \"PH3 PH2\", \"PH4 PH3\", \"R CREST-THIGH\", \"R THIGH-LEG\", \"R LEG-FOOT\", \"R HIP-KNEE\", \"R KNEE-ANKLE\", \"R ANKLE-MTP\", \"CREST-THIGH timingMIN\", \"CREST-THIGH timingMAX\", \"THIGH-LEG timingMIN\", \"THIGH-LEG timingMAX\", \"LEG-FOOT timingMIN\", \"LEG-FOOT timingMAX\", \"STEP HEIGHT\", \"PH1\", \"AMP1\", \"PH2\", \"AMP2\", \"PH3\", \"AMP3\", \"PH4\", \"AMP4\", \"LAG CREST-THIGH\", \"LAG THIGH-LEG\", \"LAG LEG-FOOT\", \"LAG HIP-KNEE\", \"LAG KNEE-ANKLE\", \"LAG ANKLE-MTP\", \"SD DURATION\", \"SD L STRIDE\", \"SD ST DUR\", \"SD SW DUR\", \"SD STEP WIDTH\", \"SD SD MidTrunk XY\", \"SD SD MidTrunk XY Vel\", \"SD STEP HEIGHT nor\", \"SD HIP-END BW\", \"SD HIP-END FW\", \"SD ST contra HL\", \"SD L PATH\", \"SD MAX ENDPOINT Vel\", \"SD T MAX ENDPOINT Vel\", \"SD PH2 PH1\", \"SD PH3 PH2\", \"SD PH4 PH3\", \"SD DOUBLE STANCE\", \"SD Acc ENDPOINT\", \"SD Vel ENDPOINT\", \"SD Angle Vel ENPOINT\", \"L STRIDE\", \"L STEP\", \"L PATH\"]\n",
    "green_param_sum = [\"FILENAME\", \"SIDE\", \"ANIMAL\", \"DURATION\", \"VELOCITY\", \"ST DUR\", \"SW DUR\", \"%ST DUR\", \"DOUBLE STANCE\", \"HIP-END BW\", \"HIP-END FW\", \"STEP HEIGHT nor\", \"MAX ENDPOINT Vel\", \"T MAX ENDPOINT Vel\", \"Acc ENDPOINT\", \"Vel ENDPOINT\", \"Angle Vel ENPOINT\", \"FOOT SW LAT\", \"STEP WIDTH\", \"MAX HipY nor\", \"MIN HipY nor\", \"AMP HipY\", \"SD MidTrunk XY\", \"SD MidTrunk XY Vel\", \"SD MidHip Z\", \"SD MidHip Y\", \"SD MidSh Y\", \"SD MidSh Z\", \"SD Shoulders\", \"SD Hips\", \"L VirtCOM fw\", \"L VirtCOM lat\", \"L VirtCOM vert\", \"L VirtCOM 3D\", \"MIN ELE 1\", \"MIN ELE 2\", \"MIN ELE 3\", \"MIN ELE 4\", \"MIN ELE 6\", \"MAX ELE 1\", \"MAX ELE 2\", \"MAX ELE 3\", \"MAX ELE 4\", \"MAX ELE 6\", \"MAX JOINT 1\", \"MAX JOINT 2\", \"MAX JOINT 3\", \"MAX LIMBLAT\", \"MIN JOINT 1\", \"MIN JOINT 2\", \"MIN JOINT 3\", \"MIN LIMBLAT\", \"AMP ELE 1\", \"AMP ELE 2\", \"AMP ELE 3\", \"AMP ELE 4\", \"AMP LIMB\", \"AMP JOINT 1\", \"AMP JOINT 2\", \"AMP JOINT 3\", \"AMP LIMBLAT\", \"MIN SPEEDLIMB 1\", \"MIN SPEEDJOINT 1\", \"MIN SPEEDJOINT 2\", \"MIN SPEEDJOINT 3\", \"MAX SPEEDLIMB 1\", \"MAX SPEEDJOINT 1\", \"MAX SPEEDJOINT 2\", \"MAX SPEEDJOINT 3\", \"AMP SPEEDLIMB 1\", \"AMP SPEEDJOINT 1\", \"AMP SPEEDJOINT 2\", \"AMP SPEEDJOINT 3\", \"PH2 PH1\", \"PH3 PH2\", \"PH4 PH3\", \"R CREST-THIGH\", \"R THIGH-LEG\", \"R LEG-FOOT\", \"R HIP-KNEE\", \"R KNEE-ANKLE\", \"R ANKLE-MTP\", \"CREST-THIGH timingMIN\", \"CREST-THIGH timingMAX\", \"THIGH-LEG timingMIN\", \"THIGH-LEG timingMAX\", \"LEG-FOOT timingMIN\", \"LEG-FOOT timingMAX\", \"STEP HEIGHT\", \"PH1\", \"AMP1\", \"PH2\", \"AMP2\", \"PH3\", \"AMP3\", \"PH4\", \"AMP4\", \"LAG CREST-THIGH\", \"LAG THIGH-LEG\", \"LAG LEG-FOOT\", \"LAG HIP-KNEE\", \"LAG KNEE-ANKLE\", \"LAG ANKLE-MTP\", \"L STRIDE\", \"L STEP\", \"L PATH\"]\n",
    "to_drop = [ \"COND1\", \"COND2\", \"COND3\",\"GAIT_TYPE\",\"LIMB\",\"PATHNAME\",\"FILENAME\", \"ANIMAL\", \"CONDITION 1\", \"CONDITION 2\", \"MIN ELE 1\", \"MIN ELE 2\", \"MAX ELE 1\",\"MAX ELE 2\", \"MAX JOINT 1\",  \"MAX JOINT 2\", \"MIN JOINT 1\", \"MIN JOINT 2\", \"AMP ELE 1\", \"AMP ELE 2\", \"AMP JOINT 1\", \"AMP JOINT 2\", \"MIN SPEEDJOINT 1\", \"MIN SPEEDJOINT 2\", \"AMP SPEEDJOINT 1\", \"AMP SPEEDJOINT 2\", \"AMP3\",\"AMP4\", 'ANIMAL.1', 'COND1.1', 'COND2.1', 'SIDE.1', 'SPEED']\n",
    "columns = green_param + [\"ANIMAL_ID\", \"EXPERIMENT\"]"
   ],
   "id": "f48d7d04aa6d2c33",
   "outputs": [],
   "execution_count": 6
  },
  {
   "metadata": {},
   "cell_type": "markdown",
   "source": "6. define, from what folder you are taking your raw gait files from",
   "id": "b3d31c5409ad9853"
  },
  {
   "metadata": {
    "ExecuteTime": {
     "end_time": "2025-03-20T14:25:06.821951Z",
     "start_time": "2025-03-20T14:25:06.813817Z"
    }
   },
   "cell_type": "code",
   "source": [
    "source_folder = \"C:/Users/User/Downloads/gait_only_test\"\n",
    "SUM = \"SUM/\" # this will be used in the following loop"
   ],
   "id": "4292848741f5b16a",
   "outputs": [],
   "execution_count": 7
  },
  {
   "metadata": {},
   "cell_type": "markdown",
   "source": [
    "7. this loop iterates through my folder structure (which is: dates/animals/runs), then:\n",
    "- We check if the run from that animal from that day matches with a run from that animal from that day (from our experiment structure YAML file!)\n",
    "- in the \"run\" folder there are different files with the raw features of that run. We want to take our data from that run from the file that ends with \"GAIT_SUM.txt\"!\n",
    "- From that one file of each and every run we go through, we \"take out\" all of the gait features (with its values from that run ofc)  we want to. Then, we put these gait features together with our metadata (corresponding date for that run etc.).\n",
    "- at the end of every loop iteration we append the data that corresponds to that run to the df_list. Then outside the loop, the data from that list will be put together into the whole dataframe.\n",
    "- This final dataframe contains all the raw values for all of our picked gait features + metadata for every day, every animal and every run!"
   ],
   "id": "9815d6af8b38c6ae"
  },
  {
   "metadata": {
    "ExecuteTime": {
     "end_time": "2025-03-20T14:38:51.436597Z",
     "start_time": "2025-03-20T14:38:51.298495Z"
    }
   },
   "cell_type": "code",
   "source": [
    "df_list = []\n",
    "metadata.rename(columns={\"subject\": \"ANIMAL\", \"run\": \"RUN\"}, inplace=True)\n",
    "\n",
    "dates = [f.name for f in os.scandir(source_folder) if f.is_dir() and f.name.isnumeric()]\n",
    "for date in dates:\n",
    "    path_animal = os.path.join(source_folder, date)\n",
    "    animals = [f.name for f in os.scandir(path_animal) if f.is_dir()]\n",
    "    for animal in animals:\n",
    "        path_run = os.path.join(path_animal, animal)\n",
    "        for run in os.listdir(path_run):\n",
    "            run_path = os.path.join(path_run, run)\n",
    "            path_to_SUM = os.path.join(run_path, SUM)\n",
    "            print(path_to_SUM)\n",
    "\n",
    "            if not os.path.exists(path_to_SUM):\n",
    "                print(f\"no SUM folder for run {run}\")\n",
    "                continue\n",
    "\n",
    "            sums = next(os.walk(path_to_SUM))[2]\n",
    "            print(sums)\n",
    "\n",
    "            file = next((os.path.join(path_to_SUM, i) for i in sums if i.endswith(\"_GAIT_SUM.txt\")), None)\n",
    "            print(file)\n",
    "\n",
    "            if file:\n",
    "                run_number = int(os.path.basename(run_path))\n",
    "                \n",
    "                if (date in experiment_structure and animal in experiment_structure[date] and\n",
    "                    any(run_number in runs for condition, runs in experiment_structure[date][animal].items())):\n",
    "                    \n",
    "                    temp_df = pd.read_csv(file, sep=\"\\t\")\n",
    "                    temp_df = temp_df[green_param_sum]\n",
    "                    temp_df[\"date\"] = date\n",
    "                    temp_df[\"ANIMAL\"] = animal\n",
    "                    temp_df[\"RUN\"] = os.path.basename(os.path.normpath(run_path))\n",
    "                    temp_df = temp_df.merge(\n",
    "                        metadata[[\"date\", \"ANIMAL\", \"RUN\", \"condition\"]], on=[\"date\", \"ANIMAL\", \"RUN\"], how=\"left\")\n",
    "                    temp_df[\"healthy\"] = animal in healthy\n",
    "                    df_list.append(temp_df)\n",
    "                    \n",
    "                else:\n",
    "                    print(f\"File {file} (Run {run_number}) is not present in the experiment structure. Skipping... Go check out the folder sorting\")\n",
    "\n",
    "df_raw_Dataframe = pd.concat(df_list, ignore_index=True)"
   ],
   "id": "72654d38841e8077",
   "outputs": [
    {
     "name": "stdout",
     "output_type": "stream",
     "text": [
      "C:/Users/User/Downloads/gait_only_test\\230525\\NWE00130\\01\\SUM/\n",
      "['cropped_runway01_GAIT_SUM.txt', 'cropped_runway01_MEAN_SUM.txt']\n",
      "C:/Users/User/Downloads/gait_only_test\\230525\\NWE00130\\01\\SUM/cropped_runway01_GAIT_SUM.txt\n",
      "1\n",
      "file found\n",
      "C:/Users/User/Downloads/gait_only_test\\230525\\NWE00130\\07\\SUM/\n",
      "['runway07_GAIT_SUM.txt', 'runway07_MEAN_SUM.txt']\n",
      "C:/Users/User/Downloads/gait_only_test\\230525\\NWE00130\\07\\SUM/runway07_GAIT_SUM.txt\n",
      "7\n",
      "file found\n",
      "C:/Users/User/Downloads/gait_only_test\\230525\\NWE00130\\09\\SUM/\n",
      "['runway09_GAIT_SUM.txt', 'runway09_MEAN_SUM.txt']\n",
      "C:/Users/User/Downloads/gait_only_test\\230525\\NWE00130\\09\\SUM/runway09_GAIT_SUM.txt\n",
      "9\n",
      "file found\n",
      "C:/Users/User/Downloads/gait_only_test\\230525\\NWE00130\\11\\SUM/\n",
      "['cropped_runway11_GAIT_SUM.txt', 'cropped_runway11_MEAN_SUM.txt']\n",
      "C:/Users/User/Downloads/gait_only_test\\230525\\NWE00130\\11\\SUM/cropped_runway11_GAIT_SUM.txt\n",
      "11\n",
      "file found\n",
      "C:/Users/User/Downloads/gait_only_test\\230525\\NWE00130\\12\\SUM/\n",
      "no SUM folder for run 12\n"
     ]
    }
   ],
   "execution_count": 16
  },
  {
   "metadata": {
    "ExecuteTime": {
     "end_time": "2025-03-20T14:38:18.318771Z",
     "start_time": "2025-03-20T14:38:18.274221Z"
    }
   },
   "cell_type": "code",
   "source": "df_raw_Dataframe.head(5) # check out how the dataframe looks!",
   "id": "ac18c4e09b291af0",
   "outputs": [
    {
     "data": {
      "text/plain": [
       "               FILENAME  SIDE    ANIMAL  DURATION  VELOCITY  ST DUR  SW DUR  \\\n",
       "0  cropped_runway01.c3d  LEFT  NWE00130     0.540  30.68279   0.395   0.145   \n",
       "1  cropped_runway01.c3d  LEFT  NWE00130     0.445  39.64500   0.300   0.145   \n",
       "2  cropped_runway01.c3d  LEFT  NWE00130     0.470  36.24093   0.320   0.150   \n",
       "3  cropped_runway01.c3d  LEFT  NWE00130     0.505  35.58456   0.345   0.160   \n",
       "4  cropped_runway01.c3d  LEFT  NWE00130     0.500  29.95995   0.345   0.155   \n",
       "\n",
       "    %ST DUR  DOUBLE STANCE  HIP-END BW  ...  LAG HIP-KNEE  LAG KNEE-ANKLE  \\\n",
       "0  73.14815       20.18349   -3.262923  ...            -4             -29   \n",
       "1  67.41573       33.33333    0.080289  ...            -3             -24   \n",
       "2  68.08511       34.73684    0.517486  ...            -3              40   \n",
       "3  68.31683       39.21569   -0.159694  ...            -4              35   \n",
       "4  69.00000       14.85149   -0.242020  ...            -4              35   \n",
       "\n",
       "   LAG ANKLE-MTP  L STRIDE    L STEP    L PATH    date  RUN  condition  \\\n",
       "0            -27  16.56871  13.60207  14.01867  230525   01   baseline   \n",
       "1            -31  17.64202  15.46892  15.94896  230525   01   baseline   \n",
       "2             -3  17.03324  14.85763  15.30313  230525   01   baseline   \n",
       "3             -2  17.97020  15.93157  16.31516  230525   01   baseline   \n",
       "4            -30  14.97997  13.01872  13.12449  230525   01   baseline   \n",
       "\n",
       "   healthy  \n",
       "0    False  \n",
       "1    False  \n",
       "2    False  \n",
       "3    False  \n",
       "4    False  \n",
       "\n",
       "[5 rows x 110 columns]"
      ],
      "text/html": [
       "<div>\n",
       "<style scoped>\n",
       "    .dataframe tbody tr th:only-of-type {\n",
       "        vertical-align: middle;\n",
       "    }\n",
       "\n",
       "    .dataframe tbody tr th {\n",
       "        vertical-align: top;\n",
       "    }\n",
       "\n",
       "    .dataframe thead th {\n",
       "        text-align: right;\n",
       "    }\n",
       "</style>\n",
       "<table border=\"1\" class=\"dataframe\">\n",
       "  <thead>\n",
       "    <tr style=\"text-align: right;\">\n",
       "      <th></th>\n",
       "      <th>FILENAME</th>\n",
       "      <th>SIDE</th>\n",
       "      <th>ANIMAL</th>\n",
       "      <th>DURATION</th>\n",
       "      <th>VELOCITY</th>\n",
       "      <th>ST DUR</th>\n",
       "      <th>SW DUR</th>\n",
       "      <th>%ST DUR</th>\n",
       "      <th>DOUBLE STANCE</th>\n",
       "      <th>HIP-END BW</th>\n",
       "      <th>...</th>\n",
       "      <th>LAG HIP-KNEE</th>\n",
       "      <th>LAG KNEE-ANKLE</th>\n",
       "      <th>LAG ANKLE-MTP</th>\n",
       "      <th>L STRIDE</th>\n",
       "      <th>L STEP</th>\n",
       "      <th>L PATH</th>\n",
       "      <th>date</th>\n",
       "      <th>RUN</th>\n",
       "      <th>condition</th>\n",
       "      <th>healthy</th>\n",
       "    </tr>\n",
       "  </thead>\n",
       "  <tbody>\n",
       "    <tr>\n",
       "      <th>0</th>\n",
       "      <td>cropped_runway01.c3d</td>\n",
       "      <td>LEFT</td>\n",
       "      <td>NWE00130</td>\n",
       "      <td>0.540</td>\n",
       "      <td>30.68279</td>\n",
       "      <td>0.395</td>\n",
       "      <td>0.145</td>\n",
       "      <td>73.14815</td>\n",
       "      <td>20.18349</td>\n",
       "      <td>-3.262923</td>\n",
       "      <td>...</td>\n",
       "      <td>-4</td>\n",
       "      <td>-29</td>\n",
       "      <td>-27</td>\n",
       "      <td>16.56871</td>\n",
       "      <td>13.60207</td>\n",
       "      <td>14.01867</td>\n",
       "      <td>230525</td>\n",
       "      <td>01</td>\n",
       "      <td>baseline</td>\n",
       "      <td>False</td>\n",
       "    </tr>\n",
       "    <tr>\n",
       "      <th>1</th>\n",
       "      <td>cropped_runway01.c3d</td>\n",
       "      <td>LEFT</td>\n",
       "      <td>NWE00130</td>\n",
       "      <td>0.445</td>\n",
       "      <td>39.64500</td>\n",
       "      <td>0.300</td>\n",
       "      <td>0.145</td>\n",
       "      <td>67.41573</td>\n",
       "      <td>33.33333</td>\n",
       "      <td>0.080289</td>\n",
       "      <td>...</td>\n",
       "      <td>-3</td>\n",
       "      <td>-24</td>\n",
       "      <td>-31</td>\n",
       "      <td>17.64202</td>\n",
       "      <td>15.46892</td>\n",
       "      <td>15.94896</td>\n",
       "      <td>230525</td>\n",
       "      <td>01</td>\n",
       "      <td>baseline</td>\n",
       "      <td>False</td>\n",
       "    </tr>\n",
       "    <tr>\n",
       "      <th>2</th>\n",
       "      <td>cropped_runway01.c3d</td>\n",
       "      <td>LEFT</td>\n",
       "      <td>NWE00130</td>\n",
       "      <td>0.470</td>\n",
       "      <td>36.24093</td>\n",
       "      <td>0.320</td>\n",
       "      <td>0.150</td>\n",
       "      <td>68.08511</td>\n",
       "      <td>34.73684</td>\n",
       "      <td>0.517486</td>\n",
       "      <td>...</td>\n",
       "      <td>-3</td>\n",
       "      <td>40</td>\n",
       "      <td>-3</td>\n",
       "      <td>17.03324</td>\n",
       "      <td>14.85763</td>\n",
       "      <td>15.30313</td>\n",
       "      <td>230525</td>\n",
       "      <td>01</td>\n",
       "      <td>baseline</td>\n",
       "      <td>False</td>\n",
       "    </tr>\n",
       "    <tr>\n",
       "      <th>3</th>\n",
       "      <td>cropped_runway01.c3d</td>\n",
       "      <td>LEFT</td>\n",
       "      <td>NWE00130</td>\n",
       "      <td>0.505</td>\n",
       "      <td>35.58456</td>\n",
       "      <td>0.345</td>\n",
       "      <td>0.160</td>\n",
       "      <td>68.31683</td>\n",
       "      <td>39.21569</td>\n",
       "      <td>-0.159694</td>\n",
       "      <td>...</td>\n",
       "      <td>-4</td>\n",
       "      <td>35</td>\n",
       "      <td>-2</td>\n",
       "      <td>17.97020</td>\n",
       "      <td>15.93157</td>\n",
       "      <td>16.31516</td>\n",
       "      <td>230525</td>\n",
       "      <td>01</td>\n",
       "      <td>baseline</td>\n",
       "      <td>False</td>\n",
       "    </tr>\n",
       "    <tr>\n",
       "      <th>4</th>\n",
       "      <td>cropped_runway01.c3d</td>\n",
       "      <td>LEFT</td>\n",
       "      <td>NWE00130</td>\n",
       "      <td>0.500</td>\n",
       "      <td>29.95995</td>\n",
       "      <td>0.345</td>\n",
       "      <td>0.155</td>\n",
       "      <td>69.00000</td>\n",
       "      <td>14.85149</td>\n",
       "      <td>-0.242020</td>\n",
       "      <td>...</td>\n",
       "      <td>-4</td>\n",
       "      <td>35</td>\n",
       "      <td>-30</td>\n",
       "      <td>14.97997</td>\n",
       "      <td>13.01872</td>\n",
       "      <td>13.12449</td>\n",
       "      <td>230525</td>\n",
       "      <td>01</td>\n",
       "      <td>baseline</td>\n",
       "      <td>False</td>\n",
       "    </tr>\n",
       "  </tbody>\n",
       "</table>\n",
       "<p>5 rows × 110 columns</p>\n",
       "</div>"
      ]
     },
     "execution_count": 15,
     "metadata": {},
     "output_type": "execute_result"
    }
   ],
   "execution_count": 15
  },
  {
   "metadata": {},
   "cell_type": "markdown",
   "source": [
    "8. If we decide to drop more gait features we don't have to let the whole loop run again, we can just:\n",
    "- define what columns (=features) we want to drop and then:\n",
    "- drop them"
   ],
   "id": "c8bc77db1e362150"
  },
  {
   "metadata": {
    "ExecuteTime": {
     "end_time": "2025-03-20T14:34:45.663435Z",
     "start_time": "2025-03-20T14:34:45.646780Z"
    }
   },
   "cell_type": "code",
   "outputs": [],
   "execution_count": 9,
   "source": [
    "cols_to_drop = df_raw_Dataframe.columns[df_raw_Dataframe.columns.str.contains('LAG|timing')]\n",
    "df_raw_post_dropping = df_raw_Dataframe.drop(cols_to_drop, axis=1)"
   ],
   "id": "8292baf921f307b7"
  },
  {
   "metadata": {},
   "cell_type": "markdown",
   "source": "9. you can also drop animals you want to exclude + check if you successfully dropped them : ",
   "id": "a2734b5a1fbe9bd4"
  },
  {
   "metadata": {
    "ExecuteTime": {
     "end_time": "2025-03-20T14:34:47.605843Z",
     "start_time": "2025-03-20T14:34:47.578678Z"
    }
   },
   "cell_type": "code",
   "source": [
    "df_raw_without_certain_animal = df_raw_post_dropping.drop(df_raw_post_dropping[df_raw_Dataframe[\"ANIMAL\"].isin([\"NWE00189\", \"NWE00191\", \"NWE00193\"])].index, axis=0)\n",
    "print(df_raw_without_certain_animal[\"ANIMAL\"].unique())"
   ],
   "id": "9e89a55679aada0d",
   "outputs": [
    {
     "name": "stdout",
     "output_type": "stream",
     "text": [
      "['NWE00130']\n"
     ]
    }
   ],
   "execution_count": 10
  },
  {
   "metadata": {},
   "cell_type": "markdown",
   "source": "10. save your dataframe :",
   "id": "abb56a69da35fae9"
  },
  {
   "metadata": {
    "ExecuteTime": {
     "end_time": "2025-03-13T15:12:54.652243Z",
     "start_time": "2025-03-13T15:12:54.632422Z"
    }
   },
   "cell_type": "code",
   "source": "df_raw_without_certain_animal.to_csv(\"df_raw_Dataframe_test.csv\", index=False)",
   "id": "c0ac96b911583189",
   "outputs": [],
   "execution_count": 17
  }
 ],
 "metadata": {
  "kernelspec": {
   "display_name": "Python 3",
   "language": "python",
   "name": "python3"
  },
  "language_info": {
   "codemirror_mode": {
    "name": "ipython",
    "version": 2
   },
   "file_extension": ".py",
   "mimetype": "text/x-python",
   "name": "python",
   "nbconvert_exporter": "python",
   "pygments_lexer": "ipython2",
   "version": "2.7.6"
  }
 },
 "nbformat": 4,
 "nbformat_minor": 5
}
