{
 "cells": [
  {
   "metadata": {},
   "cell_type": "markdown",
   "source": [
    "1. let's import all of the packages we'll need!\n",
    "- I make usage of the package \"neurokin\" a lot. To install it, check out the documentation website : https://neurokin.readthedocs.io/en/latest/index.html\n",
    "- under \"neurokin package\" you can also see more about a lot of the functions im using here and you can check out the neurokin GitHub repository to see more documentation etc.!!"
   ],
   "id": "1960fccda5069b9"
  },
  {
   "metadata": {
    "collapsed": true,
    "ExecuteTime": {
     "end_time": "2025-03-20T12:31:27.914753Z",
     "start_time": "2025-03-20T12:31:27.531626Z"
    }
   },
   "cell_type": "code",
   "source": [
    "import pandas as pd\n",
    "import numpy as np\n",
    "import seaborn as sns\n",
    "from matplotlib import pyplot as plt\n",
    "import os\n",
    "import sys\n",
    "from Demos.BackupSeek_streamheaders import stream_name\n",
    "sys.path.append(\"../neurokin/\")\n",
    "from neurokin.utils.neural import processing, importing, neural_plot\n",
    "from neurokin.utils.experiments import neural_states_helper, neural_correlates_plot, spider_factory\n",
    "from neurokin.locomotion_states import NeuralCorrelatesStates\n",
    "import json\n",
    "from scipy.stats import mannwhitneyu, normaltest, ttest_ind, levene, ttest_rel, shapiro\n",
    "from scipy import signal\n",
    "from matplotlib.ticker import FormatStrFormatter\n",
    "from matplotlib.lines import Line2D\n",
    "from neurokin.utils.experiments import neural_states_helper, neural_correlates_plot, spider_factory\n",
    "from neurokin.locomotion_states import NeuralCorrelatesStates\n",
    "from neurokin.neural_data import NeuralData"
   ],
   "id": "initial_id",
   "outputs": [
    {
     "name": "stdout",
     "output_type": "stream",
     "text": [
      "Filename: C:\\Users\\User\\AppData\\Local\\Temp\\bkrFB18.tmp\n",
      "\n",
      "Type: 3 Security descriptor data Attributes: 2 Size: 164 Name len: 0\n",
      "Name:Unnamed\n",
      "Moved:  164\n",
      "\n",
      "Type: 1 Standard data Attributes: 0 Size: 116 Name len: 0\n",
      "Name:Unnamed\n",
      "Moved:  116\n",
      "\n",
      "Type: 4 Alternative data streams Attributes: 0 Size: 168 Name len: 52\n",
      "Name::\u0005SummaryInformation:$DATA\n",
      "Moved:  168\n",
      "\n",
      "Type: 4 Alternative data streams Attributes: 0 Size: 200 Name len: 40\n",
      "Name::anotherstream:$DATA\n",
      "Moved:  200\n",
      "\n",
      "Type: 4 Alternative data streams Attributes: 0 Size: 132 Name len: 34\n",
      "Name::streamdata:$DATA\n",
      "Moved:  132\n",
      "\n",
      "Type: 4 Alternative data streams Attributes: 0 Size: 0 Name len: 90\n",
      "Name::{4c8cc155-6c1e-11d1-8e41-00c04fb9386d}:$DATA\n"
     ]
    }
   ],
   "execution_count": 2
  },
  {
   "metadata": {},
   "cell_type": "markdown",
   "source": [
    "2. Then, we get the data we want to analyze and further define some important parameters:\n",
    "- we can define which animals are parkinsonian and which ones are healthy. We can also define if we want to skip some animals (for example after exclusion analysis)\n",
    "- we also create a dictionary that tells what channel is the right one for each animal"
   ],
   "id": "f32e6ff708095431"
  },
  {
   "metadata": {
    "ExecuteTime": {
     "end_time": "2025-03-13T15:47:18.663426Z",
     "start_time": "2025-03-13T15:47:18.648146Z"
    }
   },
   "cell_type": "code",
   "source": "experiment_path = \"../../data_labrotation/dataset_EES_OL_fall\"",
   "id": "e07bd572a636bac5",
   "outputs": [],
   "execution_count": 2
  },
  {
   "metadata": {
    "ExecuteTime": {
     "end_time": "2025-03-13T15:48:22.901728Z",
     "start_time": "2025-03-13T15:48:22.888732Z"
    }
   },
   "cell_type": "code",
   "source": [
    "NFFT = 2**12\n",
    "NOV = int(NFFT/4)\n",
    "TIME_CUTOFF = 1.5\n",
    "\n",
    "\n",
    "pda = [\"NWE00180\", \"NWE00186\", \"NWE00187\", \"NWE00191\", \"NWE00192\", \"NWE00193\"] \n",
    "healthy = [\"NWE00188\", \"NWE00189\", \"NWE00197\"]\n",
    "skip_animals = []\n",
    "\n",
    "CHANNEL_DICT = {\"NWE00180\": 3,\n",
    "                \"NWE00186\": 3,\n",
    "                \"NWE00187\": 3,\n",
    "                \"NWE00188\": 3,\n",
    "                \"NWE00189\": 3,\n",
    "                \"NWE00191\": 3,\n",
    "                \"NWE00192\": 3,\n",
    "                \"NWE00193\": 3,\n",
    "                \"NWE00197\": 3,\n",
    "                \"NWE00198\": 3}"
   ],
   "id": "5ffe61c33633298e",
   "outputs": [],
   "execution_count": 3
  },
  {
   "metadata": {},
   "cell_type": "markdown",
   "source": "3. Here, we create our experiment structure and define, what stimulation conditions we have:",
   "id": "7ff1c994c1530650"
  },
  {
   "metadata": {
    "ExecuteTime": {
     "end_time": "2025-03-13T15:49:32.458809Z",
     "start_time": "2025-03-13T15:49:32.444974Z"
    }
   },
   "cell_type": "code",
   "source": [
    "experiment_structure_path = experiment_path + \"/experiment_structure_fall.yaml\"\n",
    "conditions = [\"baseline\", \"cervical40\", \"cervical125\", \"lumbar40\", \"lumbar125\"]  "
   ],
   "id": "bf6584edd4fd2fd2",
   "outputs": [],
   "execution_count": 4
  },
  {
   "metadata": {},
   "cell_type": "markdown",
   "source": [
    "4. Here, firstly an instance of the class \"NeuralCorrelatesStates\" is created --> ncs = an object. This processes and organizes the neural data according to the parameters that are passed (e.g. timeslice etc.)\n",
    "- With the next two steps, we create a dataframe containing data of each trial and timestamps of events (Akinesia, stationary movement, gait) and then we save it\n",
    "- This dataframe contains information on the date, the condition etc.\n",
    "- If we re-run the code, we can just call the priorly saved dataframe (the commented last line of the code)"
   ],
   "id": "803b8580aaf40b7d"
  },
  {
   "metadata": {},
   "cell_type": "code",
   "outputs": [],
   "execution_count": null,
   "source": [
    "ncs = NeuralCorrelatesStates(timeslice=TIME_CUTOFF,                                                                          experiment_structure_filepath=experiment_structure_path,\n",
    "                            skip_subjects=skip_animals, skip_conditions=[])\n",
    "\n",
    "ncs.create_events_dataset(experiment_path, verbose=False)\n",
    "ncs.save_dataset(\"events_dataset\", \"./event_dataset\")\n",
    "#ncs.events_dataset = pd.read_pickle(\"./event_dataset.pkl\")"
   ],
   "id": "f14aa475dcc5a792"
  },
  {
   "metadata": {},
   "cell_type": "code",
   "outputs": [],
   "execution_count": null,
   "source": "ncs.events_dataset.head(10) # check out how the dataframe looks!",
   "id": "53b1af2d618faeb4"
  },
  {
   "metadata": {},
   "cell_type": "markdown",
   "source": [
    "5. Additionally, we create pandas dataframe that contains neural data that corresponds to different locomotor events in the runs. \n",
    "(= what happened in the brain while the animal was in Akinesia? Or while in gait or stationary movement?) and save it. \n",
    "We also define the sampling frequency of the recording. Again, we can call the priorly saved dataframe when re-running the code."
   ],
   "id": "9e0409d6b8230ee1"
  },
  {
   "metadata": {},
   "cell_type": "code",
   "outputs": [],
   "execution_count": null,
   "source": [
    "ncs.create_raw_neural_dataset(experiment_path, \n",
    "                                 stream_names=[\"LFP1\", \"NPr1\", \"EOG1\"],\n",
    "                                  ch_of_interest=CHANNEL_DICT)\n",
    "ncs.save_dataset(\"raw_neural_correlates_dataset\", \"./raw_neural_correlates_dataset\")\n",
    "# ncs.raw_neural_correlates_dataset = pd.read_pickle(\"./raw_neural_correlates_dataset.pkl\")\n",
    "ncs.fs= 24414.1"
   ],
   "id": "66d7875f215c430"
  },
  {
   "metadata": {},
   "cell_type": "code",
   "outputs": [],
   "execution_count": null,
   "source": "ncs.raw_neural_correlates_dataset.head(5) # check out how the dataframe looks!",
   "id": "eab1046920442d75"
  },
  {
   "metadata": {},
   "cell_type": "markdown",
   "source": "6. Next, \"create_psd_dataset\" computes the Power Spectra Density of the neural correlates. \"Plot_prep_psds_dataset\" then creates a reduced dataframe (=df) of the Power Spectral Density ready for us to plot the PSD plot : ",
   "id": "a0e3fab494c86c25"
  },
  {
   "metadata": {},
   "cell_type": "code",
   "outputs": [],
   "execution_count": null,
   "source": "ncs.create_psd_dataset(NFFT, NOV, zscore=True)",
   "id": "bfb0a6e2054dc89f"
  },
  {
   "metadata": {},
   "cell_type": "code",
   "outputs": [],
   "execution_count": null,
   "source": "df = ncs.plot_prep_psds_dataset(test_sbj_list=pda, condense=True)",
   "id": "aaf370799b720b3a"
  },
  {
   "metadata": {},
   "cell_type": "code",
   "outputs": [],
   "execution_count": null,
   "source": "df.head(5) # check out how the dataframe looks!",
   "id": "5495003157a0c7fd"
  },
  {
   "metadata": {},
   "cell_type": "markdown",
   "source": "7. Then, we define the freqs, which is the Frequency array from the Fourier Transform : ",
   "id": "b0e9c7718941ea55"
  },
  {
   "metadata": {},
   "cell_type": "code",
   "outputs": [],
   "execution_count": null,
   "source": "ncs.freqs = np.fft.rfftfreq(NFFT, d=1 / ncs.fs)",
   "id": "e6613528cba8652b"
  },
  {
   "metadata": {},
   "cell_type": "markdown",
   "source": "8. If we want to first take a look at all the animals on their own, we plot all the animals in Baseline (e.g. to see if a PD animal didn't show a strong beta band)  :",
   "id": "807bf983f5cdc54a"
  },
  {
   "metadata": {},
   "cell_type": "code",
   "outputs": [],
   "execution_count": null,
   "source": "df_only_baseline = df[df[\"condition\"] == \"baseline\"] # taking only the baseline condition!",
   "id": "22438c540324d6ec"
  },
  {
   "metadata": {},
   "cell_type": "markdown",
   "source": [
    "Then lets plot them : \n",
    "- We loop through our axes (= three plots for the three states) and for each state we loop through the animals. If they are healthy, they are plotted in a gray-tone if not, they are visualized in a red-tone."
   ],
   "id": "154b5acdd796ac3e"
  },
  {
   "metadata": {},
   "cell_type": "code",
   "outputs": [],
   "execution_count": null,
   "source": [
    "max_freq = 100\n",
    "min_freq = 5\n",
    "\n",
    "idx_max = processing.find_closest_index(ncs.freqs, max_freq)  # storing index that represents closest frequency to max_frequency in data\n",
    "idx_min = processing.find_closest_index(ncs.freqs, min_freq)\n",
    "\n",
    "fig, axs = plt.subplots(1, 3, sharey=True, figsize=(10, 4))\n",
    "fig.subplots_adjust(wspace=0)\n",
    "sns.set_style(\"white\")\n",
    "states = [\"event_fog\", \"event_nlm\", \"event_gait\"]\n",
    "titles = [\"Akinesia\", \"Stationary \\n movement\", \"Gait\"]\n",
    "animals = df_only_baseline[\"subject\"].unique()\n",
    "gray_palette = sns.color_palette(\"Greys\", n_colors=len(healthy) + 1)\n",
    "red_palette = sns.color_palette(\"Reds\", n_colors=len(pda) + 1)\n",
    "\n",
    "for i, ax in enumerate(axs):\n",
    "    state = states[i]\n",
    "    for j, animal in enumerate(animals):\n",
    "        animal_data = df_only_baseline[(df_only_baseline[\"subject\"] == animal)][state].values[0]\n",
    "        f = ncs.freqs[idx_min:idx_max]\n",
    "        animal_psd = animal_data[idx_min:idx_max]\n",
    "        if animal in healthy:\n",
    "            gray_index = healthy.index(animal)\n",
    "            color_palette = gray_palette[gray_index + 1]\n",
    "        else:\n",
    "            red_index = pda.index(animal)\n",
    "            color_palette = red_palette[red_index + 1]\n",
    "        \n",
    "        ax.plot(f, animal_psd, color=color_palette, linewidth=3, label = animal, alpha=0.8)\n",
    "        \n",
    "    ax.spines[['left']].set_visible(False)\n",
    "\n",
    "ylim = 20\n",
    "\n",
    "axs[0].set_ylabel(\"PSD [AU]\", fontsize=15)\n",
    "axs[0].set_ylim(0, ylim)\n",
    "axs[1].set_xlabel(\"Freqs [Hz]\", fontsize=15)\n",
    "for a in axs:\n",
    "    a.spines[['right', 'top']].set_visible(False)\n",
    "plt.legend()   \n",
    "plt.tight_layout()\n",
    "#plt.savefig(\"Baseline_PSD_test.png\")"
   ],
   "id": "4fe0f4066818940e"
  },
  {
   "metadata": {},
   "cell_type": "markdown",
   "source": "",
   "id": "a2bba68171ad574d"
  },
  {
   "metadata": {},
   "cell_type": "markdown",
   "source": [
    "9. To plot the beta band box plot, first we condense a priorly created dataframe (for each locomotor state we see the timestamps from when to when in a run the animal was in that state).\n",
    "Then we also create an empty dataframe called \"beta_df\" where we already have the three states as columns : "
   ],
   "id": "1bbf6edfe96c0320"
  },
  {
   "metadata": {},
   "cell_type": "code",
   "outputs": [],
   "execution_count": null,
   "source": [
    "df = ncs.psds_correlates_dataset.copy()\n",
    "df = neural_states_helper.condense_distribution_event_types(df)\n",
    "df[\"group\"] = np.where(df[\"subject\"].isin(healthy), False, True)\n",
    "beta_df = pd.DataFrame(columns=states)"
   ],
   "id": "57e574ed86999998"
  },
  {
   "metadata": {},
   "cell_type": "code",
   "outputs": [],
   "execution_count": null,
   "source": "df.head(5) # check out how the dataframe looks!",
   "id": "e1fde54555456a41"
  },
  {
   "metadata": {},
   "cell_type": "markdown",
   "source": "10. We then create a function that gives out the mean of the beta band for each run and each state. The dataframe \"beta_df\" then contains the beta band for each state of each run of each subject in each condition. We get it like this with the usage of our priorly defined function.",
   "id": "dfa232d3cbfbf6c5"
  },
  {
   "metadata": {},
   "cell_type": "code",
   "outputs": [],
   "execution_count": null,
   "source": [
    "def compute_beta_mean(data, idx_min, idx_max):\n",
    "    try:\n",
    "        return np.mean(np.asarray(data).mean(axis=0)[idx_min:idx_max])\n",
    "    except IndexError:\n",
    "        return None"
   ],
   "id": "9db7be10cd432b07"
  },
  {
   "metadata": {},
   "cell_type": "code",
   "outputs": [],
   "execution_count": null,
   "source": [
    "idx_max = processing.find_closest_index(ncs.freqs, 42)\n",
    "idx_min = processing.find_closest_index(ncs.freqs, 20)\n",
    "\n",
    "\n",
    "beta_df[states] = df[states].applymap(compute_beta_mean, na_action=\"ignore\", idx_min=idx_min, idx_max=idx_max)\n",
    "beta_df[\"group\"] = df[\"group\"]\n",
    "beta_df[\"subject\"] = df[\"subject\"]\n",
    "beta_df[\"run_id\"] = df[\"date\"] + \"_\" + df[\"run\"]\n",
    "beta_df[\"condition\"] = df[\"condition\"]"
   ],
   "id": "36de987c9a354d18"
  },
  {
   "metadata": {},
   "cell_type": "code",
   "outputs": [],
   "execution_count": null,
   "source": "beta_df.head(5) # check out how the dataframe looks!",
   "id": "55acad8441fe7c26"
  },
  {
   "metadata": {},
   "cell_type": "markdown",
   "source": "11. Then, we create a new column that holds the mean of the three states for each row : ",
   "id": "d6c36e4befcc9a31"
  },
  {
   "metadata": {},
   "cell_type": "code",
   "outputs": [],
   "execution_count": null,
   "source": [
    "beta = beta_df[['event_fog', 'event_nlm', 'event_gait']].mean(axis=1, skipna=True)\n",
    "beta_df[\"beta\"] = beta"
   ],
   "id": "46d743655caaeff1"
  },
  {
   "metadata": {},
   "cell_type": "code",
   "outputs": [],
   "execution_count": null,
   "source": "beta_df.head(5) # check out how the dataframe looks!",
   "id": "dbf3991bf43bd9d2"
  },
  {
   "metadata": {},
   "cell_type": "markdown",
   "source": "12. Now, we group by condition and subject, so that we get the mean beta power for each condition of each animal. We also then drop columns we don't need and convert 0 & 1 into False and True, just to make the df a bit more neat : ",
   "id": "13e168fdd8ef7cf3"
  },
  {
   "metadata": {},
   "cell_type": "code",
   "outputs": [],
   "execution_count": null,
   "source": "grouped = beta_df.groupby([\"subject\", \"condition\"], as_index=False).mean()",
   "id": "913b9ed1d54c0170"
  },
  {
   "metadata": {},
   "cell_type": "code",
   "outputs": [],
   "execution_count": null,
   "source": [
    "grouped.drop([\"event_fog\", \"event_nlm\", \"event_gait\", \"run_id\"], axis=1, inplace=True)\n",
    "grouped[\"group\"] = grouped[\"group\"].astype(bool)"
   ],
   "id": "a8e947f50a98acbc"
  },
  {
   "metadata": {},
   "cell_type": "markdown",
   "source": [
    "13. We create a dictionary to map the health status and the stimulation condition to one another. With this we can then create a new column called \"identifyer\". We need this for the seperation of different groups when plotting. \n",
    "For healthy animals we only want \"Baseline\" so every other condition for healthy animals gets assigned a NaN value. We can then drop those to filter out healthy animals with stimulation conditions that we don't want to plot :"
   ],
   "id": "6563887d9bc56203"
  },
  {
   "metadata": {},
   "cell_type": "code",
   "outputs": [],
   "execution_count": null,
   "source": [
    "condition_map = {\n",
    "    (False, \"baseline\"): \"healthy_baseline\",\n",
    "    (True, \"baseline\"): \"pda_baseline\",\n",
    "    (True, \"cervical125\"): \"pda_cervical125\",\n",
    "    (True, \"cervical40\"): \"pda_cervical40\",\n",
    "    (True, \"lumbar125\"): \"pda_lumbar125\",\n",
    "    (True, \"lumbar40\"): \"pda_lumbar40\"\n",
    "}\n",
    "\n",
    "grouped[\"identifyer\"] = grouped.apply(lambda row: condition_map.get((row[\"group\"], row[\"condition\"]), np.nan), axis=1)"
   ],
   "id": "ca4023ed0ae4287d"
  },
  {
   "metadata": {},
   "cell_type": "code",
   "outputs": [],
   "execution_count": null,
   "source": "df = grouped.dropna(subset=[\"identifyer\"], axis=0)",
   "id": "e69251c51cc15950"
  },
  {
   "metadata": {},
   "cell_type": "markdown",
   "source": [
    "14. Let's define the colors for each group and the order of each group. After that we can plot the beta score plot : \n",
    "- There is also some code for making the plot look like I wanted it to. For example removing the edges of the box or making the median line thicker.\n",
    "- With \"chart\" we also plot the mean beta value for the individual animals over our boxplot "
   ],
   "id": "3ebb30fac2ee6412"
  },
  {
   "metadata": {},
   "cell_type": "code",
   "outputs": [],
   "execution_count": null,
   "source": [
    "color_palette = {\"pda_baseline\": \"#e0493e\", \"pda_cervical40\": \"#93abd4\", \"pda_lumbar40\": \"#9ce29c\", \"pda_cervical125\": \"#496186\", \"pda_lumbar125\": \"#95b695\", \"healthy_baseline\": \"#808080\"}\n",
    "order = [\"pda_baseline\", \"pda_lumbar40\", \"pda_lumbar125\", \"pda_cervical40\", \"pda_cervical125\", \"healthy_baseline\"]"
   ],
   "id": "e095e7c651e3374a"
  },
  {
   "metadata": {},
   "cell_type": "code",
   "outputs": [],
   "execution_count": null,
   "source": [
    "plt.figure(figsize=(7, 4))\n",
    "sns.set_style(\"ticks\")\n",
    "g = sns.boxplot(data=df, x=\"identifyer\", y=\"beta\", palette=color_palette, order=order, linewidth=0, medianprops=dict(linestyle='-', linewidth=2), capprops=dict(linestyle='-', linewidth=2), whiskerprops=dict(linestyle='-', linewidth=1))\n",
    "chart = sns.scatterplot(data=df, y=\"beta\", x=\"identifyer\", color=\"k\", legend=False, zorder=10, s=35)\n",
    "\n",
    "g.spines[['right', 'top']].set_visible(False)\n",
    "g.set_yticks([2, 5, 9])\n",
    "g.set_xticks([])\n",
    "plt.gca().set_xticklabels([])\n",
    "plt.gca().set_xticklabels([])\n",
    "g.set(ylabel=None, xlabel=None)\n",
    "plt.tight_layout()\n",
    "#plt.savefig(\"beta_boxplot_test.png\", transparent=True)"
   ],
   "id": "6f57f02195b6ff40"
  },
  {
   "metadata": {},
   "cell_type": "markdown",
   "source": [
    "15. You could also not plot the mean of all the states but plot each state or only the beta power in Akinesia. There are plenty of options, you just have to filter your dataframe differently.\n",
    "16. Again, you can do a lot with the package \"neurokin\" that I have mostly used in this script. Check out https://neurokin.readthedocs.io/en/latest/index.html for a deep dive into the functions and for seeing what else you can do with it. "
   ],
   "id": "c793ca2646cc0990"
  }
 ],
 "metadata": {
  "kernelspec": {
   "display_name": "Python 3",
   "language": "python",
   "name": "python3"
  },
  "language_info": {
   "codemirror_mode": {
    "name": "ipython",
    "version": 2
   },
   "file_extension": ".py",
   "mimetype": "text/x-python",
   "name": "python",
   "nbconvert_exporter": "python",
   "pygments_lexer": "ipython2",
   "version": "2.7.6"
  }
 },
 "nbformat": 4,
 "nbformat_minor": 5
}
